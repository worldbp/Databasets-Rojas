{
 "cells": [
  {
   "cell_type": "markdown",
   "metadata": {},
   "source": [
    "Estadísticas por partido de jugadores de la NBA temporada 2023-2022"
   ]
  },
  {
   "cell_type": "code",
   "execution_count": null,
   "metadata": {},
   "outputs": [],
   "source": [
    "\n",
    "import numpy as np\n",
    "import pandas as pd\n"
   ]
  },
  {
   "cell_type": "code",
   "execution_count": null,
   "metadata": {},
   "outputs": [],
   "source": [
    "\n",
    "df_nba23 = pd.read_excel('C:/Users/Rodolfo/Downloads/nba23.xlsx')\n",
    "print(df_nba23)\n"
   ]
  },
  {
   "cell_type": "code",
   "execution_count": null,
   "metadata": {},
   "outputs": [],
   "source": []
  },
  {
   "cell_type": "markdown",
   "metadata": {},
   "source": [
    "Serie de Importaciones del Alimentos de EE.UU "
   ]
  },
  {
   "cell_type": "code",
   "execution_count": null,
   "metadata": {},
   "outputs": [],
   "source": [
    "df_usfoodimports =  pd.read_excel('C:/Users/Rodolfo/Downloads/FoodImports.xlsx')\n",
    "print(df_usfoodimports)\n"
   ]
  },
  {
   "cell_type": "markdown",
   "metadata": {},
   "source": [
    "Series de Indicadores Estadísticos de Argentina "
   ]
  },
  {
   "cell_type": "code",
   "execution_count": 26,
   "metadata": {},
   "outputs": [
    {
     "name": "stdout",
     "output_type": "stream",
     "text": [
      "                                                                   2000  \\\n",
      "0                                  GDP (current US$)  284,203,750,000.0   \n",
      "1                              GDP growth (annual %)               -0.8   \n",
      "2                 Inflation, GDP deflator (annual %)                1.0   \n",
      "3  Agriculture, forestry, and fishing, value adde...                4.7   \n",
      "4  Industry (including construction), value added...               26.0   \n",
      "\n",
      "                2001              2002  Unnamed: 4               2003  \\\n",
      "0  268,696,750,000.0  97,724,004,251.9         NaN  127,586,973,492.2   \n",
      "1               -4.4             -10.9         NaN                8.8   \n",
      "2               -1.1              30.6         NaN               10.5   \n",
      "3                4.6              10.2         NaN               10.3   \n",
      "4               25.2              30.6         NaN               32.6   \n",
      "\n",
      "                2004               2005               2006               2007  \\\n",
      "0  164,657,930,452.8  198,737,095,012.3  232,557,260,817.3  287,530,508,430.6   \n",
      "1                9.0                8.9                8.0                9.0   \n",
      "2               18.4               10.3               13.7               14.9   \n",
      "3                8.4                7.9                6.9                7.5   \n",
      "4               28.8               28.6               29.2               27.4   \n",
      "\n",
      "   ...               2013               2014               2015  \\\n",
      "0  ...  552,025,140,252.2  526,319,673,731.6  594,749,285,413.2   \n",
      "1  ...                2.4               -2.5                2.7   \n",
      "2  ...               23.9               40.3               26.6   \n",
      "3  ...                6.1                6.7                5.2   \n",
      "4  ...               24.0               24.3               23.2   \n",
      "\n",
      "                2016               2017               2018               2019  \\\n",
      "0  557,532,317,363.5  643,628,396,190.4  524,819,898,586.9  447,754,686,715.1   \n",
      "1               -2.1                2.8               -2.6               -2.0   \n",
      "2               41.1               26.0               42.0               49.2   \n",
      "3                6.3                5.2                4.5                5.3   \n",
      "4               22.1               21.8               23.7               23.2   \n",
      "\n",
      "                2020               2021               2022  \n",
      "0  385,540,406,815.6  487,227,125,385.6  632,770,284,408.5  \n",
      "1               -9.9               10.4                5.2  \n",
      "2               40.1               54.2               69.7  \n",
      "3                6.1                7.1                6.4  \n",
      "4               22.2               23.6               23.4  \n",
      "\n",
      "[5 rows x 25 columns]\n"
     ]
    }
   ],
   "source": [
    "df_argentina_ec_indicators =  pd.read_excel('C:/Users/Rodolfo/Downloads/Data_Extract_FromWorld Development Indicators.xlsx')\n",
    "print(df_argentina_ec_indicators.head())"
   ]
  }
 ],
 "metadata": {
  "kernelspec": {
   "display_name": "base",
   "language": "python",
   "name": "python3"
  },
  "language_info": {
   "codemirror_mode": {
    "name": "ipython",
    "version": 3
   },
   "file_extension": ".py",
   "mimetype": "text/x-python",
   "name": "python",
   "nbconvert_exporter": "python",
   "pygments_lexer": "ipython3",
   "version": "3.11.4"
  },
  "orig_nbformat": 4
 },
 "nbformat": 4,
 "nbformat_minor": 2
}
